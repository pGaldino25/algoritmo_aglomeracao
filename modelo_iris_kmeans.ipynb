{
  "nbformat": 4,
  "nbformat_minor": 0,
  "metadata": {
    "colab": {
      "provenance": [],
      "authorship_tag": "ABX9TyPFju66KjvlSAcP2cVUaGep",
      "include_colab_link": true
    },
    "kernelspec": {
      "name": "python3",
      "display_name": "Python 3"
    },
    "language_info": {
      "name": "python"
    }
  },
  "cells": [
    {
      "cell_type": "markdown",
      "metadata": {
        "id": "view-in-github",
        "colab_type": "text"
      },
      "source": [
        "<a href=\"https://colab.research.google.com/github/pGaldino25/ml_modelo_iris_kmeans/blob/pGaldino25%2Fmain/modelo_iris_kmeans.ipynb\" target=\"_parent\"><img src=\"https://colab.research.google.com/assets/colab-badge.svg\" alt=\"Open In Colab\"/></a>"
      ]
    },
    {
      "cell_type": "code",
      "source": [
        "import pandas as pd\n",
        "import matplotlib.pyplot as plt\n",
        "\n",
        "from sklearn.cluster import KMeans\n",
        "\n",
        "data = pd.read_csv(\"https://archive.ics.uci.edu/ml/machine-learning-databases/iris/iris.data\", header=None)\n",
        "data.columns = [\"sepal-length\", \"sepal-width\", \"petal-length\", \"petal-width\", \"class\"]\n",
        "del data[\"class\"]\n",
        "data.head()\n",
        "\n",
        "### describe() - Comando para exibir a estatistica descritiva (Pandas)\n",
        "data.describe()\n",
        "\n",
        "fig = plt.figure(figsize=(10,6))\n",
        "sp = fig.add_subplot(1,1,1)\n",
        "sp.scatter(data[\"sepal-length\"], data[\"sepal-width\"])"
      ],
      "metadata": {
        "id": "N2USA0Kas9jj"
      },
      "execution_count": null,
      "outputs": []
    },
    {
      "cell_type": "code",
      "source": [
        "kmeans = KMeans(n_clusters=3, init='k-means++', n_init=10, random_state=1234)\n",
        "kmeans"
      ],
      "metadata": {
        "id": "NEYr1XhMv-hn"
      },
      "execution_count": null,
      "outputs": []
    },
    {
      "cell_type": "code",
      "source": [
        "data['clusters'] = kmeans.fit_predict(data)\n",
        "data"
      ],
      "metadata": {
        "id": "fn7IFhfkDxQI"
      },
      "execution_count": null,
      "outputs": []
    },
    {
      "cell_type": "code",
      "source": [
        "group_count = data.groupby(\"clusters\").size().reset_index(name='counts')\n",
        "group_count"
      ],
      "metadata": {
        "id": "O0tz2dAmETGd"
      },
      "execution_count": null,
      "outputs": []
    },
    {
      "cell_type": "code",
      "source": [
        "group = data.groupby(\"clusters\")\n",
        "group\n",
        "gm = group.mean()\n",
        "gm"
      ],
      "metadata": {
        "id": "y9u5UTeDEyJt"
      },
      "execution_count": null,
      "outputs": []
    },
    {
      "cell_type": "code",
      "source": [
        "# Gerando o gráfico, mostrando apenas o relacionamento entre o comprimento e largura\n",
        "label_color_map = {0: 'b', 1: 'g', 2: 'y'}\n",
        "label_color = [label_color_map[i] for i in data[\"clusters\"]]\n",
        "\n",
        "fig = plt.figure(figsize=(12,8))\n",
        "\n",
        "sp = fig.add_subplot(2,2,1)\n",
        "\n",
        "sp.set_title(\"Iris\")\n",
        "\n",
        "sp.scatter(data[\"petal-length\"], data[\"sepal-width\"], color=label_color)\n",
        "sp.scatter(gm[\"petal-length\"], gm[\"sepal-width\"], marker='x', s=100, color='red')\n",
        "sp.set_xlabel(\"Comp Sépala x Larg. Pétala\")\n",
        "\n",
        "sp = fig.add_subplot(2,2,2)\n",
        "sp.scatter(data[\"petal-length\"], data[\"sepal-width\"], color=label_color)\n",
        "sp.scatter(gm[\"petal-length\"], gm[\"sepal-width\"], marker='x', s=100, color='red')\n",
        "sp.set_xlabel(\"Comp Sépala x Larg. Pétala\")\n",
        "\n",
        "sp = fig.add_subplot(2,2,3)\n",
        "sp.scatter(data[\"petal-length\"], data[\"sepal-width\"], color=label_color)\n",
        "sp.scatter(gm[\"petal-length\"], gm[\"sepal-width\"], marker='x', s=100, color='red')\n",
        "sp.set_xlabel(\"Comp Sépala x Larg. Pétala\")\n",
        "\n",
        "sp = fig.add_subplot(2,2,4)\n",
        "sp.scatter(data[\"petal-length\"], data[\"sepal-width\"], color=label_color)\n",
        "sp.scatter(gm[\"petal-length\"], gm[\"sepal-width\"], marker='x', s=100, color='red')\n",
        "sp.set_xlabel(\"Comp Sépala x Larg. Pétala\")\n"
      ],
      "metadata": {
        "id": "mlUUPTxLFw1e"
      },
      "execution_count": null,
      "outputs": []
    },
    {
      "cell_type": "code",
      "source": [],
      "metadata": {
        "id": "9pacpxLhO5l_"
      },
      "execution_count": null,
      "outputs": []
    }
  ]
}